{
 "cells": [
  {
   "cell_type": "markdown",
   "metadata": {},
   "source": [
    "## 客家語音(文字轉語音服務)\n",
    "\n",
    "* [CSIAP客家語文化特徵詞](http://gohakka.org/CSIAP/App/)\n",
    "* [服務.意傳.台灣](https://xn--lhrz38b.xn--v0qr21b.xn--kpry57d/)\n",
    "* [標漢字音標](https://服務.意傳.台灣/標漢字音標)\n",
    "* [語音合成](https://服務.意傳.台灣/語音合成)"
   ]
  },
  {
   "cell_type": "code",
   "execution_count": null,
   "metadata": {},
   "outputs": [],
   "source": [
    "import requests\n",
    "import json"
   ]
  },
  {
   "cell_type": "code",
   "execution_count": 2,
   "metadata": {
    "execution": {
     "iopub.status.idle": "2020-11-16T04:15:06.811370Z",
     "shell.execute_reply": "2020-11-16T04:15:06.810857Z",
     "shell.execute_reply.started": "2020-11-16T04:15:06.748672Z"
    }
   },
   "outputs": [],
   "source": [
    "from flask import Flask, request\n",
    "app = Flask(__name__)"
   ]
  },
  {
   "cell_type": "code",
   "execution_count": 3,
   "metadata": {
    "execution": {
     "iopub.execute_input": "2020-11-16T04:15:06.814643Z",
     "iopub.status.busy": "2020-11-16T04:15:06.814477Z",
     "iopub.status.idle": "2020-11-16T04:15:06.817137Z",
     "shell.execute_reply": "2020-11-16T04:15:06.816636Z",
     "shell.execute_reply.started": "2020-11-16T04:15:06.814622Z"
    }
   },
   "outputs": [],
   "source": [
    "hakkadic_url = 'http://gohakka.org/hakkadic/api.py'\n",
    "hakka4Chinese_url = 'https://服務.意傳.台灣/標漢字音標'\n",
    "hakka4Audio_url = 'https://服務.意傳.台灣/語音合成'"
   ]
  },
  {
   "cell_type": "markdown",
   "metadata": {},
   "source": [
    "### 客家語文化特徵詞服務\n",
    "範例: `妳好`->`汝好`"
   ]
  },
  {
   "cell_type": "code",
   "execution_count": 4,
   "metadata": {
    "execution": {
     "iopub.execute_input": "2020-11-16T04:15:06.818029Z",
     "iopub.status.busy": "2020-11-16T04:15:06.817851Z",
     "iopub.status.idle": "2020-11-16T04:15:06.821627Z",
     "shell.execute_reply": "2020-11-16T04:15:06.821134Z",
     "shell.execute_reply.started": "2020-11-16T04:15:06.817991Z"
    }
   },
   "outputs": [],
   "source": [
    "def gethakkadic(targetText):\n",
    "    global hakkadic_url\n",
    "    response = requests.get(hakkadic_url, params={'text': targetText})\n",
    "    response_obj = json.loads(response.content)\n",
    "    print(response_obj)\n",
    "    return response_obj['hakka_text']"
   ]
  },
  {
   "cell_type": "markdown",
   "metadata": {},
   "source": [
    "### 標漢字音標特徵服務\n",
    "範例: `汝好`->`汝 好｜hau`"
   ]
  },
  {
   "cell_type": "code",
   "execution_count": 5,
   "metadata": {
    "execution": {
     "iopub.execute_input": "2020-11-16T04:15:06.822645Z",
     "iopub.status.busy": "2020-11-16T04:15:06.822473Z",
     "iopub.status.idle": "2020-11-16T04:15:06.825993Z",
     "shell.execute_reply": "2020-11-16T04:15:06.825528Z",
     "shell.execute_reply.started": "2020-11-16T04:15:06.822624Z"
    }
   },
   "outputs": [],
   "source": [
    "def gethakka4Chinese(targetText):\n",
    "    global hakka4Chinese_url\n",
    "    response = requests.get(hakka4Chinese_url, params={'查詢腔口': '四縣腔', '查詢語句': targetText})\n",
    "    response_obj = json.loads(response.content)\n",
    "    print(response_obj)\n",
    "    return response_obj['分詞']"
   ]
  },
  {
   "cell_type": "markdown",
   "metadata": {},
   "source": [
    "### 語音合成\n",
    "範例: `汝 好｜hau`->``wav音訊檔案`"
   ]
  },
  {
   "cell_type": "code",
   "execution_count": 6,
   "metadata": {
    "execution": {
     "iopub.execute_input": "2020-11-16T04:15:06.828477Z",
     "iopub.status.busy": "2020-11-16T04:15:06.828303Z",
     "iopub.status.idle": "2020-11-16T04:15:06.832108Z",
     "shell.execute_reply": "2020-11-16T04:15:06.831614Z",
     "shell.execute_reply.started": "2020-11-16T04:15:06.828456Z"
    }
   },
   "outputs": [],
   "source": [
    "def gethakka4Audio(targetText, targetFileName):\n",
    "    global hakka4Audio_url\n",
    "    response = requests.get(hakka4Audio_url, params={'查詢腔口': '四縣腔', '查詢語句': targetText})\n",
    "    filename = '{}.wav'.format(targetFileName)\n",
    "    # 儲存檔案下來一份到伺服器\n",
    "    with open(filename, 'wb') as f:\n",
    "        f.write(response.content)\n",
    "    return response.content"
   ]
  },
  {
   "cell_type": "markdown",
   "metadata": {},
   "source": [
    "### 完整國字轉客語語音"
   ]
  },
  {
   "cell_type": "code",
   "execution_count": 7,
   "metadata": {
    "execution": {
     "iopub.execute_input": "2020-11-16T04:15:06.832986Z",
     "iopub.status.busy": "2020-11-16T04:15:06.832823Z",
     "iopub.status.idle": "2020-11-16T04:15:06.835993Z",
     "shell.execute_reply": "2020-11-16T04:15:06.835432Z",
     "shell.execute_reply.started": "2020-11-16T04:15:06.832965Z"
    }
   },
   "outputs": [],
   "source": [
    "def text2hakkaSpeech(targetText):\n",
    "    hakka_text = gethakkadic(targetText)\n",
    "    hakka_text = gethakka4Chinese(hakka_text)\n",
    "    return gethakka4Audio(hakka_text, targetText)"
   ]
  },
  {
   "cell_type": "markdown",
   "metadata": {},
   "source": [
    "### 伺服器微服務\n",
    "\n",
    "* `/`: 將國字`妳好`轉換成`客家語音檔案`  \n",
    "GET: `text`\n",
    "* `/hakkadic`: 將國字`妳好`轉換成  \n",
    "GET: `text`\n",
    "* `/hakka4chinese`  \n",
    "GET: `text`"
   ]
  },
  {
   "cell_type": "code",
   "execution_count": 8,
   "metadata": {
    "execution": {
     "iopub.execute_input": "2020-11-16T04:15:06.836911Z",
     "iopub.status.busy": "2020-11-16T04:15:06.836748Z",
     "iopub.status.idle": "2020-11-16T04:15:06.840314Z",
     "shell.execute_reply": "2020-11-16T04:15:06.839828Z",
     "shell.execute_reply.started": "2020-11-16T04:15:06.836891Z"
    }
   },
   "outputs": [],
   "source": [
    "### 請求URL\n",
    "@app.route('/')\n",
    "def text2hakkaSpeech_main():\n",
    "    text = request.args.get('text')\n",
    "    return text2hakkaSpeech(text)"
   ]
  },
  {
   "cell_type": "code",
   "execution_count": 9,
   "metadata": {
    "execution": {
     "iopub.execute_input": "2020-11-16T04:15:06.841802Z",
     "iopub.status.busy": "2020-11-16T04:15:06.841639Z",
     "iopub.status.idle": "2020-11-16T04:15:06.846438Z",
     "shell.execute_reply": "2020-11-16T04:15:06.845855Z",
     "shell.execute_reply.started": "2020-11-16T04:15:06.841782Z"
    }
   },
   "outputs": [],
   "source": [
    "@app.route('/hakkadic')\n",
    "def gethakkadic_main():\n",
    "    text = request.args.get('text')\n",
    "    return gethakkadic(text)"
   ]
  },
  {
   "cell_type": "code",
   "execution_count": 10,
   "metadata": {
    "execution": {
     "iopub.execute_input": "2020-11-16T04:15:06.847411Z",
     "iopub.status.busy": "2020-11-16T04:15:06.847243Z",
     "iopub.status.idle": "2020-11-16T04:15:06.850983Z",
     "shell.execute_reply": "2020-11-16T04:15:06.850365Z",
     "shell.execute_reply.started": "2020-11-16T04:15:06.847385Z"
    }
   },
   "outputs": [],
   "source": [
    "@app.route('/hakka4chinese')\n",
    "def gethakka4Chinese_main():\n",
    "    text = request.args.get('text')\n",
    "    return gethakka4Chinese(text)"
   ]
  },
  {
   "cell_type": "markdown",
   "metadata": {},
   "source": [
    "### 執行範例"
   ]
  },
  {
   "cell_type": "code",
   "execution_count": 12,
   "metadata": {
    "execution": {
     "iopub.execute_input": "2020-11-16T04:16:19.674340Z",
     "iopub.status.busy": "2020-11-16T04:16:19.673602Z",
     "iopub.status.idle": "2020-11-16T04:16:20.903768Z",
     "shell.execute_reply": "2020-11-16T04:16:20.901437Z",
     "shell.execute_reply.started": "2020-11-16T04:16:19.674257Z"
    }
   },
   "outputs": [
    {
     "name": "stdout",
     "output_type": "stream",
     "text": [
      "{'success': True, 'hakka_text': '熊熊'}\n",
      "{'分詞': '熊｜iungˇ 熊｜iungˇ', '綜合標音': [{'漢字': '熊 熊', '臺灣客話': 'Iungˇ iungˇ', '分詞': '熊｜iungˇ 熊｜iungˇ'}]}\n"
     ]
    }
   ],
   "source": [
    "audioFileContent = text2hakkaSpeech('熊熊')"
   ]
  },
  {
   "cell_type": "code",
   "execution_count": null,
   "metadata": {},
   "outputs": [],
   "source": [
    "if __name__ == '__main__':\n",
    "    app.run(host=\"0.0.0.0\", debug=True, port=80)"
   ]
  }
 ],
 "metadata": {
  "kernelspec": {
   "display_name": "Python 3",
   "language": "python",
   "name": "python3"
  },
  "language_info": {
   "codemirror_mode": {
    "name": "ipython",
    "version": 3
   },
   "file_extension": ".py",
   "mimetype": "text/x-python",
   "name": "python",
   "nbconvert_exporter": "python",
   "pygments_lexer": "ipython3",
   "version": "3.8.6"
  }
 },
 "nbformat": 4,
 "nbformat_minor": 4
}
